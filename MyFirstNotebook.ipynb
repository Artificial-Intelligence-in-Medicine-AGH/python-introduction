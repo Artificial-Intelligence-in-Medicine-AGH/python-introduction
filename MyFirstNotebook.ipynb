{
 "cells": [
  {
   "cell_type": "markdown",
   "metadata": {},
   "source": [
    "# ZADANIE 1"
   ]
  },
  {
   "cell_type": "code",
   "execution_count": null,
   "metadata": {},
   "outputs": [],
   "source": [
    "import random\n",
    "\n",
    "#siema\n",
    "\n",
    "def sortuj(lista):\n",
    "    return sorted(lista)\n",
    "\n",
    "def policz(liczba, lista):\n",
    "    return lista.count(liczba)\n",
    "\n",
    "lista_liczb = [random.randint(0, 5) for _ in range(20)]\n",
    "print(\"Przed:\", lista_liczb)\n",
    "\n",
    "lista_liczb = sortuj(lista_liczb)\n",
    "print(\"Po:\", lista_liczb)\n",
    "\n",
    "i = 0\n",
    "while i <= 5:\n",
    "    print(f'\"{i}\" - {policz(i, lista_liczb)}')\n",
    "    i = i + 1\n"
   ]
  },
  {
   "cell_type": "markdown",
   "metadata": {},
   "source": [
    "## MIDLIFE CRISIS SECTION"
   ]
  },
  {
   "cell_type": "markdown",
   "metadata": {},
   "source": [
    "czym jest życie? czyż nie jest nieustannym cierpieniem i dorządniem do celów, które i tak nas nie zadowolą? Czy nie jest tak, że szukamy specjalnie czegoś co nas przekracza, wmawiając sobie, że poświęcenie się temu zapełni pustkę, której w rzeczywistości nie da się zapełnić. Każdy coś sobie wmawia, każdy jest w tej kwestii marzycielem. Ale co gdy już osiągniesz marzenie i poczujesz... nic. Zupełnie nic. Wszystko jest takie samo jak było wcześniej, poza jedną rzeczą... Teraz już nie masz marzenia, które było siłą napędową Twojego życia, teraz już nie masz po co wstawać z łóżka, chyba, że znajdziesz kolejny cel, który uznasz za godny realizacji. A proces ten będzie się powstarzał, aż do momentu gdy będziesz gryzł piach, a twoje ciało zaczną trawić robaki. Ostatecznie... Życie jest całkiem fascynującą przygodą"
   ]
  },
  {
   "cell_type": "markdown",
   "metadata": {},
   "source": [
    "# ZADANIE 2 (NumpyDumpy)"
   ]
  },
  {
   "cell_type": "code",
   "execution_count": null,
   "metadata": {},
   "outputs": [],
   "source": [
    "import numpy as np\n",
    "import random\n",
    "\n",
    "#siema 2.0\n",
    "\n",
    "def policz(liczba, lista):\n",
    "    return lista.count(liczba)\n",
    "\n",
    "lista_liczb = [random.randint(0, 5) for _ in range(20)]\n",
    "print(\"Przed:\", lista_liczb)\n",
    "\n",
    "print(\"Po:\", lista_liczb)\n",
    "\n",
    "i = 0\n",
    "while i <= 5:\n",
    "    print(f'\"{i}\" - {policz(i, lista_liczb)}')\n",
    "    i = i + 1\n",
    "\n",
    "#...\n"
   ]
  }
 ],
 "metadata": {
  "kernelspec": {
   "display_name": "Python 3",
   "language": "python",
   "name": "python3"
  },
  "language_info": {
   "codemirror_mode": {
    "name": "ipython",
    "version": 3
   },
   "file_extension": ".py",
   "mimetype": "text/x-python",
   "name": "python",
   "nbconvert_exporter": "python",
   "pygments_lexer": "ipython3",
   "version": "3.12.3"
  }
 },
 "nbformat": 4,
 "nbformat_minor": 2
}
