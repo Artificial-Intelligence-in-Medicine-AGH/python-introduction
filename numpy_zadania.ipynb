{
 "cells": [
  {
   "cell_type": "code",
   "execution_count": null,
   "metadata": {},
   "outputs": [
    {
     "name": "stdout",
     "output_type": "stream",
     "text": [
      "[11, 17, 2, 4, 14, 5, 1, 15, 17, 9]\n",
      "\n",
      "Median: 10.0 \n",
      "Numpy Median: 10.0\n",
      "\n",
      "Mean: 9.5 \n",
      "Numpy Mean: 9.5\n"
     ]
    }
   ],
   "source": [
    "#zadanie numpy 1\n",
    "\n",
    "from random import randint\n",
    "import numpy as np\n",
    "\n",
    "def mediana(t):\n",
    "    l = len(t)\n",
    "    if l<2:\n",
    "        return t[0]\n",
    "    values = []\n",
    "    for i in range(l):\n",
    "        values.append(t[i])\n",
    "    values.sort()\n",
    "    v = len(values)\n",
    "    if v%2 == 0:\n",
    "        return (values[v//2]+values[v//2-1])/2\n",
    "    return values[v//2-1]\n",
    "\n",
    "def srednia_arytmetyczna(t):\n",
    "    suma = 0\n",
    "    l = len(t)\n",
    "    for i in range(l):\n",
    "        suma += t[i]\n",
    "    return suma/l\n",
    "\n",
    "Target_Size = 10\n",
    "arr = [randint(1,20) for _ in range(Target_Size)]\n",
    "\n",
    "\n",
    "print(arr)\n",
    "print(\"\\nMedian: {} \\nNumpy Median: {}\\n\".format(mediana(arr),np.median(arr))) # na początku przeoczyłem i zrobiłem kod na mediane, zostawiam oba\n",
    "print(\"Mean: {} \\nNumpy Mean: {}\".format(srednia_arytmetyczna(arr),np.mean(arr)))\n"
   ]
  },
  {
   "cell_type": "code",
   "execution_count": 4,
   "metadata": {},
   "outputs": [
    {
     "name": "stdout",
     "output_type": "stream",
     "text": [
      "Tablica 2x10:\n",
      "\n",
      "0 2 4 6 8 10 12 14 16 18 \n",
      "20 22 24 26 28 30 32 34 36 38 \n"
     ]
    }
   ],
   "source": [
    "#zadanie numpy 2\n",
    "\n",
    "import numpy as np\n",
    "\n",
    "t = np.zeros((4, 5), dtype=int)\n",
    "cnt = 0\n",
    "for i in range(4):\n",
    "    for j in range(5):\n",
    "        t[i, j] = cnt\n",
    "        cnt += 1\n",
    "t *= 2\n",
    "t = t.reshape(2, 10)\n",
    "print(\"Tablica 2x10:\\n\")\n",
    "r = len(t)\n",
    "c = len(t[0])\n",
    "\n",
    "for row in range(r):\n",
    "    for col in range(c):\n",
    "        print(t[row][col], end=\" \")\n",
    "    print()\n",
    "\n"
   ]
  }
 ],
 "metadata": {
  "kernelspec": {
   "display_name": "Python 3",
   "language": "python",
   "name": "python3"
  },
  "language_info": {
   "codemirror_mode": {
    "name": "ipython",
    "version": 3
   },
   "file_extension": ".py",
   "mimetype": "text/x-python",
   "name": "python",
   "nbconvert_exporter": "python",
   "pygments_lexer": "ipython3",
   "version": "3.11.9"
  }
 },
 "nbformat": 4,
 "nbformat_minor": 2
}
