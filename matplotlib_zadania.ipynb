{
 "cells": [
  {
   "cell_type": "code",
   "execution_count": null,
   "metadata": {},
   "outputs": [],
   "source": [
    "#zadnie matplotlib 1\n",
    "\n",
    "from numpy import arange\n",
    "import matplotlib.pyplot as plt\n",
    "\n",
    "def plot_parabola():\n",
    "    \n",
    "    print(\"Podaj wspolcznynniki paraboli; a,b,c\")\n",
    "    coe = [None for _ in range(3)]\n",
    "    let = ['a','b','c']\n",
    "    #wczytywanie współczynników + obsługa błędów\n",
    "    for i in range(3):\n",
    "        try:\n",
    "            print(\"Wpisz wspolczynnik {} \".format(let[i]))\n",
    "            inp = float(input())\n",
    "        except ValueError:\n",
    "            print(\"Wspolczyniiki paraboli to liczby! Sprobuj ponownie\")\n",
    "            return -1\n",
    "        coe[i] = inp\n",
    "    \n",
    "    #funkcja\n",
    "    x = arange(-10,10,0.1)\n",
    "    y = coe[0]*x**2+coe[1]*x+coe[2]\n",
    "    \n",
    "    #plotting\n",
    "    plt.plot(x, y, label = 'y = {}*x^2 + {}*x + {}'.format(coe[0],coe[1],coe[2]))\n",
    "    plt.axhline(0, color = 'black')\n",
    "    plt.axvline(0, color = 'black')\n",
    "    \n",
    "    #labeling\n",
    "    plt.xlabel('x')\n",
    "    plt.ylabel('y')\n",
    "    plt.title('Parabola')\n",
    "    plt.legend\n",
    "    plt.grid(True)\n",
    "    \n",
    "    plt.show()\n",
    "    \n",
    "plot_parabola()"
   ]
  },
  {
   "cell_type": "code",
   "execution_count": null,
   "metadata": {},
   "outputs": [],
   "source": [
    "#zadnie matplotlib 2\n",
    "\n",
    "from numpy.random import randint\n",
    "from numpy import histogram, arange\n",
    "import matplotlib.pyplot as plt\n",
    "\n",
    "def plot_random_histogram():\n",
    "    \n",
    "    rn = randint(0, 100, 100)\n",
    "    hist, bins = histogram(rn, bins=arange(101))\n",
    "    \n",
    "    #plotting\n",
    "    plt.bar(bins[:-1], hist, color='black')\n",
    "    \n",
    "    #labeling\n",
    "    plt.xlabel('Liczby losowe')\n",
    "    plt.ylabel('Liczba wystąpień')\n",
    "    plt.title('Histogram')\n",
    "    plt.grid(True)\n",
    "\n",
    "    plt.show()\n",
    "    \n",
    "plot_random_histogram()\n"
   ]
  }
 ],
 "metadata": {
  "kernelspec": {
   "display_name": "Python 3",
   "language": "python",
   "name": "python3"
  },
  "language_info": {
   "codemirror_mode": {
    "name": "ipython",
    "version": 3
   },
   "file_extension": ".py",
   "mimetype": "text/x-python",
   "name": "python",
   "nbconvert_exporter": "python",
   "pygments_lexer": "ipython3",
   "version": "3.11.9"
  }
 },
 "nbformat": 4,
 "nbformat_minor": 2
}
